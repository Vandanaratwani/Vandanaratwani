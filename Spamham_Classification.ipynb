{
  "nbformat": 4,
  "nbformat_minor": 0,
  "metadata": {
    "colab": {
      "provenance": [],
      "authorship_tag": "ABX9TyMss117YaimNaqAumzxknzT",
      "include_colab_link": true
    },
    "kernelspec": {
      "name": "python3",
      "display_name": "Python 3"
    },
    "language_info": {
      "name": "python"
    }
  },
  "cells": [
    {
      "cell_type": "markdown",
      "metadata": {
        "id": "view-in-github",
        "colab_type": "text"
      },
      "source": [
        "<a href=\"https://colab.research.google.com/github/Vandanaratwani/Vandanaratwani/blob/main/Spamham_Classification.ipynb\" target=\"_parent\"><img src=\"https://colab.research.google.com/assets/colab-badge.svg\" alt=\"Open In Colab\"/></a>"
      ]
    },
    {
      "cell_type": "code",
      "execution_count": 2,
      "metadata": {
        "id": "RfzvfnJmxiNQ"
      },
      "outputs": [],
      "source": [
        "import pandas as pd\n",
        "\n",
        "messages = pd.read_csv('/content/SMSSpamCollection', sep='\\t',\n",
        "                           names=[\"label\", \"message\"])"
      ]
    }
  ]
}